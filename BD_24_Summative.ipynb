{
  "nbformat": 4,
  "nbformat_minor": 0,
  "metadata": {
    "kernelspec": {
      "display_name": "Python 3",
      "language": "python",
      "name": "python3"
    },
    "language_info": {
      "codemirror_mode": {
        "name": "ipython",
        "version": 3
      },
      "file_extension": ".py",
      "mimetype": "text/x-python",
      "name": "python",
      "nbconvert_exporter": "python",
      "pygments_lexer": "ipython3",
      "version": "3.6.7"
    },
    "colab": {
      "name": "BD_24_Summative.ipynb",
      "provenance": [],
      "collapsed_sections": [],
      "toc_visible": true,
      "include_colab_link": true
    }
  },
  "cells": [
    {
      "cell_type": "markdown",
      "metadata": {
        "id": "view-in-github",
        "colab_type": "text"
      },
      "source": [
        "<a href=\"https://colab.research.google.com/github/mahwaik/tutorials/blob/master/BD_24_Summative.ipynb\" target=\"_parent\"><img src=\"https://colab.research.google.com/assets/colab-badge.svg\" alt=\"Open In Colab\"/></a>"
      ]
    },
    {
      "cell_type": "markdown",
      "metadata": {
        "id": "8UMtqQtiYsYj",
        "colab_type": "text"
      },
      "source": [
        "# SETUP\n",
        "\n",
        "You will need to upload `gen_data.py` for this to work. You'll also need to set up spark as in the spark notebooks."
      ]
    },
    {
      "cell_type": "code",
      "metadata": {
        "id": "xi-BMe3A-S53",
        "colab_type": "code",
        "colab": {}
      },
      "source": [
        "\n",
        "# Installing java and downloading spark\n",
        "!apt-get install openjdk-8-jdk-headless -qq > /dev/null\n",
        "!wget -q https://www-us.apache.org/dist/spark/spark-2.4.6/spark-2.4.6-bin-hadoop2.7.tgz\n",
        "!tar xf spark-2.4.6-bin-hadoop2.7.tgz\n",
        "!pip install -q findspark"
      ],
      "execution_count": 37,
      "outputs": []
    },
    {
      "cell_type": "code",
      "metadata": {
        "id": "02pCmO67-YUX",
        "colab_type": "code",
        "colab": {}
      },
      "source": [
        "# Setting some important variables\n",
        "import os\n",
        "os.environ[\"JAVA_HOME\"] = \"/usr/lib/jvm/java-8-openjdk-amd64\"\n",
        "os.environ[\"SPARK_HOME\"] = \"/content/spark-2.4.6-bin-hadoop2.7\""
      ],
      "execution_count": 38,
      "outputs": []
    },
    {
      "cell_type": "code",
      "metadata": {
        "id": "We6wZlrY-czy",
        "colab_type": "code",
        "colab": {}
      },
      "source": [
        ""
      ],
      "execution_count": null,
      "outputs": []
    },
    {
      "cell_type": "markdown",
      "metadata": {
        "id": "cOMoTSmlYpYX",
        "colab_type": "text"
      },
      "source": [
        "# Summative"
      ]
    },
    {
      "cell_type": "markdown",
      "metadata": {
        "id": "MnsdM7DMYpYY",
        "colab_type": "text"
      },
      "source": [
        "This exercise will go through a simulated streaming data workflow, as seen in the streaming data module. But it will be more complex, and closer to what a real world scenario might look like. You will need to \n",
        "- Investigate the incoming data\n",
        "- Create an appropriate database to store the incoming records\n",
        "- Write code to process records one by one as they arrive, including\n",
        " - Printing warnings when any reading goes above a predefined threshold\n",
        " - Storing the incoming data in a database\n",
        "- Write code to analyse the stored data in a scalable manner\n",
        "- Display relevant information in a dashboard"
      ]
    },
    {
      "cell_type": "markdown",
      "metadata": {
        "id": "AYAAClb6YpYa",
        "colab_type": "text"
      },
      "source": [
        "## Create an appropriate database"
      ]
    },
    {
      "cell_type": "markdown",
      "metadata": {
        "id": "FN7XI0pCYpYb",
        "colab_type": "text"
      },
      "source": [
        "Each incoming record will look something like the following: \n",
        "\n",
        "{'Device_ID': 9,                  \n",
        "  'Temp1': 33.01235436945101,  \n",
        "  'Temp2': 46.313589806396116,  \n",
        "  'Temp3': 16.506177184725505,  \n",
        "  'Temp_Ambient': 23.782493817278034}\n",
        "  \n",
        "Each device is assigned an integer ID. Every device has multiple sensors, and reports the readings from each sensor as a float. Each call to gen_data.getReading() returns a time (an integer here to make things easier) and a record that follows the same pattern as above.\n",
        "\n",
        "<b>Create a database to store the incoming data.</b> Include a time field for the time that the data arrives. If you create the database with python, show the code here, otherwise include any bash or sql code you run. You may wish to come back and add additional fields to make later analysis easier."
      ]
    },
    {
      "cell_type": "markdown",
      "metadata": {
        "id": "FewNsm0mY-O1",
        "colab_type": "text"
      },
      "source": [
        "### ON COLAB: You can just show the appropriate SQL code, and then continue using an alternative (like a dataframe, saved to CSV) for the rest of the assignment."
      ]
    },
    {
      "cell_type": "code",
      "metadata": {
        "id": "BsRQAKH9YpYc",
        "colab_type": "code",
        "colab": {}
      },
      "source": [
        ""
      ],
      "execution_count": null,
      "outputs": []
    },
    {
      "cell_type": "markdown",
      "metadata": {
        "id": "DLE-6i2vYpYi",
        "colab_type": "text"
      },
      "source": [
        "## Store and process the incoming data\n",
        "\n",
        "As each record arrives (i.e. each loop of the for loop), you must\n",
        "- <b>Store the record in the database you created above\n",
        "- Use either moving windows or exponential averaging to keep track each sensor value for each device. Print out the values at the end of the loop\n",
        "- Print a warning if any reported temperature exceeds 100 degrees for the first time for that device</b>"
      ]
    },
    {
      "cell_type": "code",
      "metadata": {
        "id": "zGcXqrA4YpYi",
        "colab_type": "code",
        "colab": {
          "base_uri": "https://localhost:8080/",
          "height": 54
        },
        "outputId": "d5f95e1c-76bf-4113-baac-73e8f55dbfb3"
      },
      "source": [
        "import gen_data \n",
        "\n",
        "# Your code here for any initializations you may need\n",
        "\n",
        "for i in range(20000): # Hint: make this lower for testing\n",
        "    \n",
        "    # The simulated data arriving - don't change this\n",
        "    arrival_time, record = gen_data.getReading()\n",
        "    \n",
        "    # Your code here\n",
        "print(record)\n",
        "    \n",
        "# Print out whatever states you kept track of here (such as moving averages or latest readings )"
      ],
      "execution_count": 43,
      "outputs": [
        {
          "output_type": "stream",
          "text": [
            "{'Device_ID': 10, 'Temp1': 54.05155469309795, 'Temp2': 69.45671016240775, 'Temp3': 227.02577734654898, 'Temp_Ambient': 20.31106827956927}\n"
          ],
          "name": "stdout"
        }
      ]
    },
    {
      "cell_type": "markdown",
      "metadata": {
        "id": "vPoYozcNYpYn",
        "colab_type": "text"
      },
      "source": [
        "## Analyzing the stored data\n",
        "\n",
        "You now have a nice big database. <b>Load it into spark for analysis.</b>\n",
        "\n",
        "You are told that during the time the data was being collected, devices 3 and 10 had malfunctioning sensors - their temperature3 readings are all 200+. <b>Verify this.</b> Since the engineers knew about the faulty sensors, no harm has been done, but seeing those false readings in the historical data makes you unhappy. You decide to go the extra mile and replace these readings with slightly more believable (but still false) data, to practise your new machine learning skills.\n",
        "\n",
        "<b>Using the other devices for training, build a model to predict temperature3 given readings from the other sensors. Use the model to replace the erroneous values with the predicted ones. \n",
        "    \n",
        "Do you think this is a reasonable step to take? Explain.</b> "
      ]
    },
    {
      "cell_type": "code",
      "metadata": {
        "id": "M6_hGWVWYpYo",
        "colab_type": "code",
        "colab": {}
      },
      "source": [
        ""
      ],
      "execution_count": null,
      "outputs": []
    },
    {
      "cell_type": "markdown",
      "metadata": {
        "id": "9abaaVfyYpYs",
        "colab_type": "text"
      },
      "source": [
        "## Step 4: Visualization\n",
        "\n",
        "Time to get creative. Your final task is to build up a set of visualizations that could let an engineer get a quick overview of the current status of the system. Include the current sensor readings for each device and any metrics you think would be important to display. Choose one device and show more detail - a downsampled graph showing the readings over time, perhaps.\n",
        "\n",
        "You don't need to have your visualizations update in real time - merely show them as they would be presented at a given instant (i.e. feel free to use all the data you stored in the first section)."
      ]
    },
    {
      "cell_type": "code",
      "metadata": {
        "id": "1QDf5tuiYpYt",
        "colab_type": "code",
        "colab": {}
      },
      "source": [
        ""
      ],
      "execution_count": null,
      "outputs": []
    },
    {
      "cell_type": "code",
      "metadata": {
        "id": "QzmQsLaHYpYx",
        "colab_type": "code",
        "colab": {}
      },
      "source": [
        ""
      ],
      "execution_count": null,
      "outputs": []
    },
    {
      "cell_type": "code",
      "metadata": {
        "id": "-xNzexcVYpY1",
        "colab_type": "code",
        "colab": {}
      },
      "source": [
        ""
      ],
      "execution_count": null,
      "outputs": []
    },
    {
      "cell_type": "code",
      "metadata": {
        "id": "c1UD2gUaYpY5",
        "colab_type": "code",
        "colab": {}
      },
      "source": [
        ""
      ],
      "execution_count": null,
      "outputs": []
    }
  ]
}