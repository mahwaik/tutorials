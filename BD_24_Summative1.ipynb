{
  "nbformat": 4,
  "nbformat_minor": 0,
  "metadata": {
    "colab": {
      "name": "BD_24_Summative1.ipynb",
      "provenance": [],
      "collapsed_sections": [],
      "toc_visible": true,
      "include_colab_link": true
    },
    "kernelspec": {
      "display_name": "Python 3",
      "language": "python",
      "name": "python3"
    },
    "language_info": {
      "codemirror_mode": {
        "name": "ipython",
        "version": 3
      },
      "file_extension": ".py",
      "mimetype": "text/x-python",
      "name": "python",
      "nbconvert_exporter": "python",
      "pygments_lexer": "ipython3",
      "version": "3.7.4"
    }
  },
  "cells": [
    {
      "cell_type": "markdown",
      "metadata": {
        "id": "view-in-github",
        "colab_type": "text"
      },
      "source": [
        "<a href=\"https://colab.research.google.com/github/mahwaik/tutorials/blob/master/BD_24_Summative1.ipynb\" target=\"_parent\"><img src=\"https://colab.research.google.com/assets/colab-badge.svg\" alt=\"Open In Colab\"/></a>"
      ]
    },
    {
      "cell_type": "markdown",
      "metadata": {
        "colab_type": "text",
        "id": "8UMtqQtiYsYj"
      },
      "source": [
        "# SETUP\n",
        "\n",
        "You will need to upload `gen_data.py` for this to work. You'll also need to set up spark as in the spark notebooks."
      ]
    },
    {
      "cell_type": "code",
      "metadata": {
        "id": "EjrDx8TXx8fR",
        "colab_type": "code",
        "colab": {}
      },
      "source": [
        "# Installing java and downloading spark\n",
        "!apt-get install openjdk-8-jdk-headless -qq > /dev/null\n",
        "!wget -q https://www-us.apache.org/dist/spark/spark-2.4.6/spark-2.4.6-bin-hadoop2.7.tgz\n",
        "!tar xf spark-2.4.6-bin-hadoop2.7.tgz\n",
        "!pip install -q findspark\n",
        "import os\n",
        "os.environ[\"JAVA_HOME\"] = \"/usr/lib/jvm/java-8-openjdk-amd64\"\n",
        "os.environ[\"SPARK_HOME\"] = \"/content/spark-2.4.6-bin-hadoop2.7\""
      ],
      "execution_count": 1,
      "outputs": []
    },
    {
      "cell_type": "markdown",
      "metadata": {
        "colab_type": "text",
        "id": "cOMoTSmlYpYX"
      },
      "source": [
        "# Summative"
      ]
    },
    {
      "cell_type": "markdown",
      "metadata": {
        "colab_type": "text",
        "id": "MnsdM7DMYpYY"
      },
      "source": [
        "This exercise will go through a simulated streaming data workflow, as seen in the streaming data module. But it will be more complex, and closer to what a real world scenario might look like. You will need to \n",
        "- Investigate the incoming data\n",
        "- Create an appropriate database to store the incoming records\n",
        "- Write code to process records one by one as they arrive, including\n",
        " - Printing warnings when any reading goes above a predefined threshold\n",
        " - Storing the incoming data in a database\n",
        "- Write code to analyse the stored data in a scalable manner\n",
        "- Display relevant information in a dashboard"
      ]
    },
    {
      "cell_type": "markdown",
      "metadata": {
        "colab_type": "text",
        "id": "AYAAClb6YpYa"
      },
      "source": [
        "## Create an appropriate database"
      ]
    },
    {
      "cell_type": "markdown",
      "metadata": {
        "colab_type": "text",
        "id": "FN7XI0pCYpYb"
      },
      "source": [
        "Each incoming record will look something like the following: \n",
        "\n",
        "{'Device_ID': 9,                  \n",
        "  'Temp1': 33.01235436945101,  \n",
        "  'Temp2': 46.313589806396116,  \n",
        "  'Temp3': 16.506177184725505,  \n",
        "  'Temp_Ambient': 23.782493817278034}\n",
        "  \n",
        "Each device is assigned an integer ID. Every device has multiple sensors, and reports the readings from each sensor as a float. Each call to gen_data.getReading() returns a time (an integer here to make things easier) and a record that follows the same pattern as above.\n",
        "\n",
        "<b>Create a database to store the incoming data.</b> Include a time field for the time that the data arrives. If you create the database with python, show the code here, otherwise include any bash or sql code you run. You may wish to come back and add additional fields to make later analysis easier."
      ]
    },
    {
      "cell_type": "markdown",
      "metadata": {
        "colab_type": "text",
        "id": "FewNsm0mY-O1"
      },
      "source": [
        "### ON COLAB: You can just show the appropriate SQL code, and then continue using an alternative (like a dataframe, saved to CSV) for the rest of the assignment."
      ]
    },
    {
      "cell_type": "code",
      "metadata": {
        "colab_type": "code",
        "id": "BsRQAKH9YpYc",
        "colab": {}
      },
      "source": [
        "CREATE DATABASE TEMPERATURE_READINGS\n",
        "CREATE TABLE Gen_data(\n",
        "  Device_ID varchar(255),\n",
        "  Temp1 int,\n",
        "  Temp2 int,\n",
        "  Temp3 int,\n",
        "  Temp_Ambient int,\n",
        ");"
      ],
      "execution_count": null,
      "outputs": []
    },
    {
      "cell_type": "markdown",
      "metadata": {
        "colab_type": "text",
        "id": "DLE-6i2vYpYi"
      },
      "source": [
        "## Store and process the incoming data\n",
        "\n",
        "As each record arrives (i.e. each loop of the for loop), you must\n",
        "- <b>Store the record in the database you created above\n",
        "- Use either moving windows or exponential averaging to keep track each sensor value for each device. Print out the values at the end of the loop\n",
        "- Print a warning if any reported temperature exceeds 100 degrees for the first time for that device</b>"
      ]
    },
    {
      "cell_type": "code",
      "metadata": {
        "colab_type": "code",
        "id": "zGcXqrA4YpYi",
        "colab": {}
      },
      "source": [
        "import gen_data \n",
        "\n",
        "# Your code here for any initializations you may need\n",
        "data=[]\n",
        "for i in range(1000): # Hint: make this lower for testing\n",
        "    \n",
        "    # The simulated data arriving - don't change this\n",
        "    arrival_time, record = gen_data.getReading()\n",
        "    \n",
        "    # Your code here\n",
        "\n",
        "# Your code here\n",
        "    \n",
        "# Print out whatever states you kept track of here (such as moving averages or latest readings )"
      ],
      "execution_count": 183,
      "outputs": []
    },
    {
      "cell_type": "code",
      "metadata": {
        "id": "tYljrQmF5eA-",
        "colab_type": "code",
        "colab": {
          "base_uri": "https://localhost:8080/",
          "height": 77
        },
        "outputId": "4324aca2-ce5b-4526-a29e-84aa8afce0dc"
      },
      "source": [
        "\n",
        "import pandas as pd\n",
        "\n",
        "data.append(record)\n",
        "df=pd.DataFrame(data, columns=['Device_ID','Temp1','Temp2','Temp3','Temp_Ambient'])\n",
        "df"
      ],
      "execution_count": 184,
      "outputs": [
        {
          "output_type": "execute_result",
          "data": {
            "text/html": [
              "<div>\n",
              "<style scoped>\n",
              "    .dataframe tbody tr th:only-of-type {\n",
              "        vertical-align: middle;\n",
              "    }\n",
              "\n",
              "    .dataframe tbody tr th {\n",
              "        vertical-align: top;\n",
              "    }\n",
              "\n",
              "    .dataframe thead th {\n",
              "        text-align: right;\n",
              "    }\n",
              "</style>\n",
              "<table border=\"1\" class=\"dataframe\">\n",
              "  <thead>\n",
              "    <tr style=\"text-align: right;\">\n",
              "      <th></th>\n",
              "      <th>Device_ID</th>\n",
              "      <th>Temp1</th>\n",
              "      <th>Temp2</th>\n",
              "      <th>Temp3</th>\n",
              "      <th>Temp_Ambient</th>\n",
              "    </tr>\n",
              "  </thead>\n",
              "  <tbody>\n",
              "    <tr>\n",
              "      <th>0</th>\n",
              "      <td>10</td>\n",
              "      <td>47.677893</td>\n",
              "      <td>62.445682</td>\n",
              "      <td>223.838946</td>\n",
              "      <td>22.285291</td>\n",
              "    </tr>\n",
              "  </tbody>\n",
              "</table>\n",
              "</div>"
            ],
            "text/plain": [
              "   Device_ID      Temp1      Temp2       Temp3  Temp_Ambient\n",
              "0         10  47.677893  62.445682  223.838946     22.285291"
            ]
          },
          "metadata": {
            "tags": []
          },
          "execution_count": 184
        }
      ]
    },
    {
      "cell_type": "code",
      "metadata": {
        "id": "y0oaAAi_FCdk",
        "colab_type": "code",
        "colab": {
          "base_uri": "https://localhost:8080/",
          "height": 50
        },
        "outputId": "35cebefc-4e89-4435-9260-077f66a32a6e"
      },
      "source": [
        "Moving_av_Temp1= df.iloc[:,1].rolling(window=1).mean()\n",
        "Moving_av_Temp1\n"
      ],
      "execution_count": 185,
      "outputs": [
        {
          "output_type": "execute_result",
          "data": {
            "text/plain": [
              "0    47.677893\n",
              "Name: Temp1, dtype: float64"
            ]
          },
          "metadata": {
            "tags": []
          },
          "execution_count": 185
        }
      ]
    },
    {
      "cell_type": "code",
      "metadata": {
        "id": "ooA8fM0KEpNu",
        "colab_type": "code",
        "colab": {
          "base_uri": "https://localhost:8080/",
          "height": 50
        },
        "outputId": "01351304-5ea8-4063-9709-929d615b1fcb"
      },
      "source": [
        "Moving_av_Temp2= df.iloc[:,2].rolling(window=1).mean()\n",
        "Moving_av_Temp2"
      ],
      "execution_count": 186,
      "outputs": [
        {
          "output_type": "execute_result",
          "data": {
            "text/plain": [
              "0    62.445682\n",
              "Name: Temp2, dtype: float64"
            ]
          },
          "metadata": {
            "tags": []
          },
          "execution_count": 186
        }
      ]
    },
    {
      "cell_type": "code",
      "metadata": {
        "id": "zRLMYBPxE5e9",
        "colab_type": "code",
        "colab": {
          "base_uri": "https://localhost:8080/",
          "height": 50
        },
        "outputId": "58d724a2-64fc-4118-d456-c59b960ee593"
      },
      "source": [
        "Moving_av_Temp3= df.iloc[:,3].rolling(window=10).mean()\n",
        "Moving_av_Temp3"
      ],
      "execution_count": 187,
      "outputs": [
        {
          "output_type": "execute_result",
          "data": {
            "text/plain": [
              "0   NaN\n",
              "Name: Temp3, dtype: float64"
            ]
          },
          "metadata": {
            "tags": []
          },
          "execution_count": 187
        }
      ]
    },
    {
      "cell_type": "code",
      "metadata": {
        "id": "gGcRdi49Fd5M",
        "colab_type": "code",
        "colab": {
          "base_uri": "https://localhost:8080/",
          "height": 50
        },
        "outputId": "25cebd4d-c3d9-4b79-dcfa-dbae0a8c10fe"
      },
      "source": [
        "Moving_av_Temp_AM= df.iloc[:,4].rolling(window=2).mean()\n",
        "Moving_av_Temp_AM"
      ],
      "execution_count": 188,
      "outputs": [
        {
          "output_type": "execute_result",
          "data": {
            "text/plain": [
              "0   NaN\n",
              "Name: Temp_Ambient, dtype: float64"
            ]
          },
          "metadata": {
            "tags": []
          },
          "execution_count": 188
        }
      ]
    },
    {
      "cell_type": "code",
      "metadata": {
        "id": "e5OcNJfdd5UX",
        "colab_type": "code",
        "colab": {}
      },
      "source": [
        ""
      ],
      "execution_count": 190,
      "outputs": []
    },
    {
      "cell_type": "code",
      "metadata": {
        "id": "UDwvWOTsLmYm",
        "colab_type": "code",
        "colab": {}
      },
      "source": [
        "df['Moving_av_Temp1'] = Moving_av_Temp1\n",
        "df['Moving_av_Temp2'] = Moving_av_Temp2\n",
        "df['Moving_av_Temp3'] = Moving_av_Temp3\n",
        "df['Moving_av_Temp_AM'] = Moving_av_Temp_AM"
      ],
      "execution_count": 190,
      "outputs": []
    },
    {
      "cell_type": "code",
      "metadata": {
        "id": "JlhHX2qBdItg",
        "colab_type": "code",
        "colab": {}
      },
      "source": [
        "import numpy as np"
      ],
      "execution_count": 191,
      "outputs": []
    },
    {
      "cell_type": "code",
      "metadata": {
        "id": "eb2gh31yLus7",
        "colab_type": "code",
        "colab": {
          "base_uri": "https://localhost:8080/",
          "height": 77
        },
        "outputId": "69333c48-8649-4bd0-b42f-568f21ac0426"
      },
      "source": [
        "df"
      ],
      "execution_count": 192,
      "outputs": [
        {
          "output_type": "execute_result",
          "data": {
            "text/html": [
              "<div>\n",
              "<style scoped>\n",
              "    .dataframe tbody tr th:only-of-type {\n",
              "        vertical-align: middle;\n",
              "    }\n",
              "\n",
              "    .dataframe tbody tr th {\n",
              "        vertical-align: top;\n",
              "    }\n",
              "\n",
              "    .dataframe thead th {\n",
              "        text-align: right;\n",
              "    }\n",
              "</style>\n",
              "<table border=\"1\" class=\"dataframe\">\n",
              "  <thead>\n",
              "    <tr style=\"text-align: right;\">\n",
              "      <th></th>\n",
              "      <th>Device_ID</th>\n",
              "      <th>Temp1</th>\n",
              "      <th>Temp2</th>\n",
              "      <th>Temp3</th>\n",
              "      <th>Temp_Ambient</th>\n",
              "      <th>Moving_av_Temp1</th>\n",
              "      <th>Moving_av_Temp2</th>\n",
              "      <th>Moving_av_Temp3</th>\n",
              "      <th>Moving_av_Temp_AM</th>\n",
              "    </tr>\n",
              "  </thead>\n",
              "  <tbody>\n",
              "    <tr>\n",
              "      <th>0</th>\n",
              "      <td>10</td>\n",
              "      <td>47.677893</td>\n",
              "      <td>62.445682</td>\n",
              "      <td>223.838946</td>\n",
              "      <td>22.285291</td>\n",
              "      <td>47.677893</td>\n",
              "      <td>62.445682</td>\n",
              "      <td>NaN</td>\n",
              "      <td>NaN</td>\n",
              "    </tr>\n",
              "  </tbody>\n",
              "</table>\n",
              "</div>"
            ],
            "text/plain": [
              "   Device_ID      Temp1  ...  Moving_av_Temp3  Moving_av_Temp_AM\n",
              "0         10  47.677893  ...              NaN                NaN\n",
              "\n",
              "[1 rows x 9 columns]"
            ]
          },
          "metadata": {
            "tags": []
          },
          "execution_count": 192
        }
      ]
    },
    {
      "cell_type": "code",
      "metadata": {
        "id": "iue5tBJqc-w6",
        "colab_type": "code",
        "colab": {
          "base_uri": "https://localhost:8080/",
          "height": 34
        },
        "outputId": "9aebd169-1895-4384-e469-337e68d72cab"
      },
      "source": [
        "Temp1_warning = np.argmax(df['Temp1'] > 100)\n",
        "if Temp1_warning ==1:\n",
        "        print('Warning, Temperature exceeds 100 degrees for the first time')\n",
        "        print ('Device Temp 1 on index',Temp1_warning)\n",
        "else:\n",
        "          print('No device over 100 degress Temp 2 device')"
      ],
      "execution_count": 198,
      "outputs": [
        {
          "output_type": "stream",
          "text": [
            "No device over 100 degress\n"
          ],
          "name": "stdout"
        }
      ]
    },
    {
      "cell_type": "code",
      "metadata": {
        "id": "7ajCzZDDfkHR",
        "colab_type": "code",
        "colab": {}
      },
      "source": [
        "Temp2_warning = np.argmax(df['Temp2'] > 100)\n",
        "if Temp1_warning ==1:\n",
        "        print('Warning, Temperature exceeds 100 degrees for the first time for the device')\n",
        "        print ('Device Temp 2 on index',Temp2_warning)\n",
        "else:\n",
        "          print('No device over 100 degress Temp 2 device')"
      ],
      "execution_count": null,
      "outputs": []
    },
    {
      "cell_type": "code",
      "metadata": {
        "id": "DYXmCOsEgDMf",
        "colab_type": "code",
        "colab": {}
      },
      "source": [
        "Temp3_warning = np.argmax(df['Temp3'] > 100)\n",
        "if Temp1_warning ==1:\n",
        "        print('Warning, Temperature exceeds 100 degrees for the first time for the device')\n",
        "        print ('Device Temp 3 on index',Temp2_warning)\n",
        "else:\n",
        "          print('No device over 100 degress Temp 3 device')"
      ],
      "execution_count": null,
      "outputs": []
    },
    {
      "cell_type": "code",
      "metadata": {
        "id": "IibeCzi7gSbg",
        "colab_type": "code",
        "colab": {}
      },
      "source": [
        "Temp_Ambient_warning = np.argmax(df['Temp_Ambient'] > 100)\n",
        "if Temp_Ambient_warning ==1:\n",
        "        print('Warning, Temperature exceeds 100 degrees for the first time for the device')\n",
        "        print ('Temp_Ambient on index',Temp_Ambient_warning)\n",
        "else:\n",
        "          print('No device over 100 degress Temp_Ambient device')"
      ],
      "execution_count": null,
      "outputs": []
    },
    {
      "cell_type": "code",
      "metadata": {
        "id": "dQBbTozkRrY_",
        "colab_type": "code",
        "colab": {}
      },
      "source": [
        "#Checking Warning on Temp1\n",
        "Moving_av_Temp_AM=(df['Temp1'] -21.287918).apply(abs).idxmin()\n",
        "if Moving_av_Temp_AM ==1:\n",
        "        print('Warning, Temperature exceeds 100 degrees for the first time for the device')\n",
        "        print ('Device index',Moving_av_Temp_AM)\n",
        "     \n"
      ],
      "execution_count": 163,
      "outputs": []
    },
    {
      "cell_type": "code",
      "metadata": {
        "id": "G2i-53U0XRcm",
        "colab_type": "code",
        "colab": {}
      },
      "source": [
        "#Checking Warning on Temp1\n",
        "Temp1_warning=(df['Temp1'] - 100).apply(abs).idxmin()\n",
        "if Temp1_warning == 1:\n",
        "        print('Warning, Temperature exceeds 100 degrees for the first time for the device')\n",
        "        print ('Device index',Temp1_warning)"
      ],
      "execution_count": null,
      "outputs": []
    },
    {
      "cell_type": "code",
      "metadata": {
        "id": "4vb0ZOPkW3ho",
        "colab_type": "code",
        "colab": {}
      },
      "source": [
        ""
      ],
      "execution_count": null,
      "outputs": []
    },
    {
      "cell_type": "code",
      "metadata": {
        "id": "rE1QKjMRWLWr",
        "colab_type": "code",
        "colab": {}
      },
      "source": [
        ""
      ],
      "execution_count": null,
      "outputs": []
    },
    {
      "cell_type": "code",
      "metadata": {
        "id": "5d1yF2ijSf9h",
        "colab_type": "code",
        "colab": {
          "base_uri": "https://localhost:8080/",
          "height": 34
        },
        "outputId": "30956691-17e3-4550-9405-446c7f1ee0d6"
      },
      "source": [
        "if Temp1_warning > 0:\n",
        "        print(\"There is a $25 charge for luggage that heavy.\")"
      ],
      "execution_count": 139,
      "outputs": [
        {
          "output_type": "stream",
          "text": [
            "There is a $25 charge for luggage that heavy.\n"
          ],
          "name": "stdout"
        }
      ]
    },
    {
      "cell_type": "code",
      "metadata": {
        "id": "vvIQrY1_MlGs",
        "colab_type": "code",
        "colab": {}
      },
      "source": [
        "df.Moving_av_Temp1>44"
      ],
      "execution_count": 126,
      "outputs": []
    },
    {
      "cell_type": "code",
      "metadata": {
        "id": "ETfhH_ii84sJ",
        "colab_type": "code",
        "colab": {}
      },
      "source": [
        "window = [] # The moving window\n",
        "moving_av=0"
      ],
      "execution_count": 66,
      "outputs": []
    },
    {
      "cell_type": "code",
      "metadata": {
        "id": "66fA-SJA8oPe",
        "colab_type": "code",
        "colab": {}
      },
      "source": [
        ""
      ],
      "execution_count": 65,
      "outputs": []
    },
    {
      "cell_type": "code",
      "metadata": {
        "id": "54LA3oZP5Z4L",
        "colab_type": "code",
        "colab": {}
      },
      "source": [
        ""
      ],
      "execution_count": null,
      "outputs": []
    },
    {
      "cell_type": "markdown",
      "metadata": {
        "colab_type": "text",
        "id": "vPoYozcNYpYn"
      },
      "source": [
        "## Analyzing the stored data\n",
        "\n",
        "You now have a nice big database. <b>Load it into spark for analysis.</b>\n",
        "\n",
        "You are told that during the time the data was being collected, devices 3 and 10 had malfunctioning sensors - their temperature3 readings are all 200+. <b>Verify this.</b> Since the engineers knew about the faulty sensors, no harm has been done, but seeing those false readings in the historical data makes you unhappy. You decide to go the extra mile and replace these readings with slightly more believable (but still false) data, to practise your new machine learning skills.\n",
        "\n",
        "<b>Using the other devices for training, build a model to predict temperature3 given readings from the other sensors. Use the model to replace the erroneous values with the predicted ones. \n",
        "    \n",
        "Do you think this is a reasonable step to take? Explain.</b> "
      ]
    },
    {
      "cell_type": "code",
      "metadata": {
        "colab_type": "code",
        "id": "M6_hGWVWYpYo",
        "colab": {}
      },
      "source": [
        ""
      ],
      "execution_count": null,
      "outputs": []
    },
    {
      "cell_type": "markdown",
      "metadata": {
        "colab_type": "text",
        "id": "9abaaVfyYpYs"
      },
      "source": [
        "## Step 4: Visualization\n",
        "\n",
        "Time to get creative. Your final task is to build up a set of visualizations that could let an engineer get a quick overview of the current status of the system. Include the current sensor readings for each device and any metrics you think would be important to display. Choose one device and show more detail - a downsampled graph showing the readings over time, perhaps.\n",
        "\n",
        "You don't need to have your visualizations update in real time - merely show them as they would be presented at a given instant (i.e. feel free to use all the data you stored in the first section)."
      ]
    },
    {
      "cell_type": "code",
      "metadata": {
        "colab_type": "code",
        "id": "1QDf5tuiYpYt",
        "colab": {}
      },
      "source": [
        ""
      ],
      "execution_count": null,
      "outputs": []
    },
    {
      "cell_type": "code",
      "metadata": {
        "colab_type": "code",
        "id": "QzmQsLaHYpYx",
        "colab": {}
      },
      "source": [
        ""
      ],
      "execution_count": null,
      "outputs": []
    },
    {
      "cell_type": "code",
      "metadata": {
        "colab_type": "code",
        "id": "-xNzexcVYpY1",
        "colab": {}
      },
      "source": [
        ""
      ],
      "execution_count": null,
      "outputs": []
    },
    {
      "cell_type": "code",
      "metadata": {
        "colab_type": "code",
        "id": "c1UD2gUaYpY5",
        "colab": {}
      },
      "source": [
        ""
      ],
      "execution_count": null,
      "outputs": []
    }
  ]
}