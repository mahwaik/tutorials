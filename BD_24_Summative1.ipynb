{
  "nbformat": 4,
  "nbformat_minor": 0,
  "metadata": {
    "colab": {
      "name": "BD_24_Summative1.ipynb",
      "provenance": [],
      "collapsed_sections": [],
      "toc_visible": true,
      "include_colab_link": true
    },
    "kernelspec": {
      "display_name": "Python 3",
      "language": "python",
      "name": "python3"
    },
    "language_info": {
      "codemirror_mode": {
        "name": "ipython",
        "version": 3
      },
      "file_extension": ".py",
      "mimetype": "text/x-python",
      "name": "python",
      "nbconvert_exporter": "python",
      "pygments_lexer": "ipython3",
      "version": "3.7.4"
    }
  },
  "cells": [
    {
      "cell_type": "markdown",
      "metadata": {
        "id": "view-in-github",
        "colab_type": "text"
      },
      "source": [
        "<a href=\"https://colab.research.google.com/github/mahwaik/tutorials/blob/master/BD_24_Summative1.ipynb\" target=\"_parent\"><img src=\"https://colab.research.google.com/assets/colab-badge.svg\" alt=\"Open In Colab\"/></a>"
      ]
    },
    {
      "cell_type": "markdown",
      "metadata": {
        "colab_type": "text",
        "id": "8UMtqQtiYsYj"
      },
      "source": [
        "# SETUP\n",
        "\n",
        "You will need to upload `gen_data.py` for this to work. You'll also need to set up spark as in the spark notebooks."
      ]
    },
    {
      "cell_type": "code",
      "metadata": {
        "id": "EjrDx8TXx8fR",
        "colab_type": "code",
        "colab": {}
      },
      "source": [
        "# Installing java and downloading spark\n",
        "!apt-get install openjdk-8-jdk-headless -qq > /dev/null\n",
        "!wget -q https://www-us.apache.org/dist/spark/spark-2.4.6/spark-2.4.6-bin-hadoop2.7.tgz\n",
        "!tar xf spark-2.4.6-bin-hadoop2.7.tgz\n",
        "!pip install -q findspark\n",
        "import os\n",
        "os.environ[\"JAVA_HOME\"] = \"/usr/lib/jvm/java-8-openjdk-amd64\"\n",
        "os.environ[\"SPARK_HOME\"] = \"/content/spark-2.4.6-bin-hadoop2.7\""
      ],
      "execution_count": null,
      "outputs": []
    },
    {
      "cell_type": "markdown",
      "metadata": {
        "colab_type": "text",
        "id": "cOMoTSmlYpYX"
      },
      "source": [
        "# Summative"
      ]
    },
    {
      "cell_type": "markdown",
      "metadata": {
        "colab_type": "text",
        "id": "MnsdM7DMYpYY"
      },
      "source": [
        "This exercise will go through a simulated streaming data workflow, as seen in the streaming data module. But it will be more complex, and closer to what a real world scenario might look like. You will need to \n",
        "- Investigate the incoming data\n",
        "- Create an appropriate database to store the incoming records\n",
        "- Write code to process records one by one as they arrive, including\n",
        " - Printing warnings when any reading goes above a predefined threshold\n",
        " - Storing the incoming data in a database\n",
        "- Write code to analyse the stored data in a scalable manner\n",
        "- Display relevant information in a dashboard"
      ]
    },
    {
      "cell_type": "markdown",
      "metadata": {
        "colab_type": "text",
        "id": "AYAAClb6YpYa"
      },
      "source": [
        "## Create an appropriate database"
      ]
    },
    {
      "cell_type": "markdown",
      "metadata": {
        "colab_type": "text",
        "id": "FN7XI0pCYpYb"
      },
      "source": [
        "Each incoming record will look something like the following: \n",
        "\n",
        "{'Device_ID': 9,                  \n",
        "  'Temp1': 33.01235436945101,  \n",
        "  'Temp2': 46.313589806396116,  \n",
        "  'Temp3': 16.506177184725505,  \n",
        "  'Temp_Ambient': 23.782493817278034}\n",
        "  \n",
        "Each device is assigned an integer ID. Every device has multiple sensors, and reports the readings from each sensor as a float. Each call to gen_data.getReading() returns a time (an integer here to make things easier) and a record that follows the same pattern as above.\n",
        "\n",
        "<b>Create a database to store the incoming data.</b> Include a time field for the time that the data arrives. If you create the database with python, show the code here, otherwise include any bash or sql code you run. You may wish to come back and add additional fields to make later analysis easier."
      ]
    },
    {
      "cell_type": "markdown",
      "metadata": {
        "colab_type": "text",
        "id": "FewNsm0mY-O1"
      },
      "source": [
        "### ON COLAB: You can just show the appropriate SQL code, and then continue using an alternative (like a dataframe, saved to CSV) for the rest of the assignment."
      ]
    },
    {
      "cell_type": "code",
      "metadata": {
        "colab_type": "code",
        "id": "BsRQAKH9YpYc",
        "colab": {}
      },
      "source": [
        "CREATE DATABASE TEMPERATURE_READINGS\n",
        "CREATE TABLE Gen_data(\n",
        "  Device_ID varchar(255),\n",
        "  Temp1 int,\n",
        "  Temp2 int,\n",
        "  Temp3 int,\n",
        "  Temp_Ambient int,\n",
        ");"
      ],
      "execution_count": null,
      "outputs": []
    },
    {
      "cell_type": "markdown",
      "metadata": {
        "colab_type": "text",
        "id": "DLE-6i2vYpYi"
      },
      "source": [
        "## Store and process the incoming data\n",
        "\n",
        "As each record arrives (i.e. each loop of the for loop), you must\n",
        "- <b>Store the record in the database you created above\n",
        "- Use either moving windows or exponential averaging to keep track each sensor value for each device. Print out the values at the end of the loop\n",
        "- Print a warning if any reported temperature exceeds 100 degrees for the first time for that device</b>"
      ]
    },
    {
      "cell_type": "code",
      "metadata": {
        "colab_type": "code",
        "id": "zGcXqrA4YpYi",
        "colab": {}
      },
      "source": [
        "import gen_data \n",
        "import pandas as pd\n",
        "\n",
        "Errodata = []\n",
        "window = [] #\n",
        "\n",
        "# Your code here for any initializations you may need\n",
        "data=[]\n",
        "for i in range(1000): # Hint: make this lower for testing\n",
        "    \n",
        "    # The simulated data arriving - don't change this\n",
        "    arrival_time, record = gen_data.getReading()\n",
        "    \n",
        "    # Your code here\n",
        "arrival_time, record = gen_data.getReading()\n",
        "window.append(record) \n",
        "if len(window)>10:\n",
        "        del(window[0]) \n",
        "# Your code here\n",
        "    \n",
        "# Print out whatever states you kept track of here (such as moving averages or latest readings )"
      ],
      "execution_count": null,
      "outputs": []
    },
    {
      "cell_type": "code",
      "metadata": {
        "id": "tYljrQmF5eA-",
        "colab_type": "code",
        "colab": {
          "base_uri": "https://localhost:8080/",
          "height": 106
        },
        "outputId": "b6a093df-19ad-4a90-ee10-264b27437801"
      },
      "source": [
        "\n",
        "import pandas as pd\n",
        "import numpy as np\n",
        "\n",
        "\n",
        "data.append(record)\n",
        "df=pd.DataFrame(data, columns=['Device_ID','Temp1','Temp2','Temp3','Temp_Ambient'])\n",
        "df"
      ],
      "execution_count": null,
      "outputs": [
        {
          "output_type": "execute_result",
          "data": {
            "text/html": [
              "<div>\n",
              "<style scoped>\n",
              "    .dataframe tbody tr th:only-of-type {\n",
              "        vertical-align: middle;\n",
              "    }\n",
              "\n",
              "    .dataframe tbody tr th {\n",
              "        vertical-align: top;\n",
              "    }\n",
              "\n",
              "    .dataframe thead th {\n",
              "        text-align: right;\n",
              "    }\n",
              "</style>\n",
              "<table border=\"1\" class=\"dataframe\">\n",
              "  <thead>\n",
              "    <tr style=\"text-align: right;\">\n",
              "      <th></th>\n",
              "      <th>Device_ID</th>\n",
              "      <th>Temp1</th>\n",
              "      <th>Temp2</th>\n",
              "      <th>Temp3</th>\n",
              "      <th>Temp_Ambient</th>\n",
              "    </tr>\n",
              "  </thead>\n",
              "  <tbody>\n",
              "    <tr>\n",
              "      <th>0</th>\n",
              "      <td>8</td>\n",
              "      <td>48.10804</td>\n",
              "      <td>62.918844</td>\n",
              "      <td>24.05402</td>\n",
              "      <td>26.844288</td>\n",
              "    </tr>\n",
              "    <tr>\n",
              "      <th>1</th>\n",
              "      <td>8</td>\n",
              "      <td>48.10804</td>\n",
              "      <td>62.918844</td>\n",
              "      <td>24.05402</td>\n",
              "      <td>26.844288</td>\n",
              "    </tr>\n",
              "  </tbody>\n",
              "</table>\n",
              "</div>"
            ],
            "text/plain": [
              "   Device_ID     Temp1      Temp2     Temp3  Temp_Ambient\n",
              "0          8  48.10804  62.918844  24.05402     26.844288\n",
              "1          8  48.10804  62.918844  24.05402     26.844288"
            ]
          },
          "metadata": {
            "tags": []
          },
          "execution_count": 23
        }
      ]
    },
    {
      "cell_type": "code",
      "metadata": {
        "id": "JqSwG1udP2XN",
        "colab_type": "code",
        "colab": {
          "base_uri": "https://localhost:8080/",
          "height": 50
        },
        "outputId": "df04dc85-c270-4a24-951b-e7150f51d8d3"
      },
      "source": [
        "df.iloc[:,2].rolling(window=5).mean()"
      ],
      "execution_count": null,
      "outputs": [
        {
          "output_type": "execute_result",
          "data": {
            "text/plain": [
              "0   NaN\n",
              "Name: Temp2, dtype: float64"
            ]
          },
          "metadata": {
            "tags": []
          },
          "execution_count": 13
        }
      ]
    },
    {
      "cell_type": "code",
      "metadata": {
        "id": "iue5tBJqc-w6",
        "colab_type": "code",
        "colab": {
          "base_uri": "https://localhost:8080/",
          "height": 34
        },
        "outputId": "d62044b7-4f1e-4c4f-9046-7d93fcd6be59"
      },
      "source": [
        "Temp1_warning = np.argmax(df['Temp1'] > 100)\n",
        "if Temp1_warning ==1:\n",
        "        print('Warning, Temperature exceeds 100 degrees for the first time')\n",
        "        print ('Device Temp 1 on index',Temp1_warning)\n",
        "else:\n",
        "          print('No device over 100 degress Temp 2 device')"
      ],
      "execution_count": null,
      "outputs": [
        {
          "output_type": "stream",
          "text": [
            "No device over 100 degress Temp 2 device\n"
          ],
          "name": "stdout"
        }
      ]
    },
    {
      "cell_type": "code",
      "metadata": {
        "id": "7ajCzZDDfkHR",
        "colab_type": "code",
        "colab": {
          "base_uri": "https://localhost:8080/",
          "height": 34
        },
        "outputId": "85479e70-0f00-4203-91b1-0549364f9a65"
      },
      "source": [
        "Temp2_warning = np.argmax(df['Temp2'] > 100)\n",
        "if Temp1_warning ==1:\n",
        "        print('Warning, Temperature exceeds 100 degrees for the first time for the device')\n",
        "        print ('Device Temp 2 on index',Temp2_warning)\n",
        "else:\n",
        "          print('No device over 100 degress Temp 2 device')"
      ],
      "execution_count": null,
      "outputs": [
        {
          "output_type": "stream",
          "text": [
            "No device over 100 degress Temp 2 device\n"
          ],
          "name": "stdout"
        }
      ]
    },
    {
      "cell_type": "code",
      "metadata": {
        "id": "DYXmCOsEgDMf",
        "colab_type": "code",
        "colab": {
          "base_uri": "https://localhost:8080/",
          "height": 34
        },
        "outputId": "6cae5d59-03cf-47de-ee88-32dad1346ac8"
      },
      "source": [
        "Temp3_warning = np.argmax(df['Temp3'] > 100)\n",
        "if Temp1_warning ==1:\n",
        "        print('Warning, Temperature exceeds 100 degrees for the first time for the device')\n",
        "        print ('Device Temp 3 on index',Temp2_warning)\n",
        "else:\n",
        "          print('No device over 100 degress Temp 3 device')"
      ],
      "execution_count": null,
      "outputs": [
        {
          "output_type": "stream",
          "text": [
            "No device over 100 degress Temp 3 device\n"
          ],
          "name": "stdout"
        }
      ]
    },
    {
      "cell_type": "code",
      "metadata": {
        "id": "IibeCzi7gSbg",
        "colab_type": "code",
        "colab": {
          "base_uri": "https://localhost:8080/",
          "height": 34
        },
        "outputId": "363d5347-665c-4225-e4dc-4353ffd6dad9"
      },
      "source": [
        "Temp_Ambient_warning = np.argmax(df['Temp_Ambient'] > 100)\n",
        "if Temp_Ambient_warning ==1:\n",
        "        print('Warning, Temperature exceeds 100 degrees for the first time for the device')\n",
        "        print ('Temp_Ambient on index',Temp_Ambient_warning)\n",
        "else:\n",
        "          print('No device over 100 degress Temp_Ambient device')"
      ],
      "execution_count": null,
      "outputs": [
        {
          "output_type": "stream",
          "text": [
            "No device over 100 degress Temp_Ambient device\n"
          ],
          "name": "stdout"
        }
      ]
    },
    {
      "cell_type": "code",
      "metadata": {
        "id": "rE1QKjMRWLWr",
        "colab_type": "code",
        "colab": {}
      },
      "source": [
        ""
      ],
      "execution_count": null,
      "outputs": []
    },
    {
      "cell_type": "code",
      "metadata": {
        "id": "66fA-SJA8oPe",
        "colab_type": "code",
        "colab": {}
      },
      "source": [
        ""
      ],
      "execution_count": null,
      "outputs": []
    },
    {
      "cell_type": "code",
      "metadata": {
        "id": "54LA3oZP5Z4L",
        "colab_type": "code",
        "colab": {}
      },
      "source": [
        ""
      ],
      "execution_count": null,
      "outputs": []
    },
    {
      "cell_type": "markdown",
      "metadata": {
        "colab_type": "text",
        "id": "vPoYozcNYpYn"
      },
      "source": [
        "## Analyzing the stored data\n",
        "\n",
        "You now have a nice big database. <b>Load it into spark for analysis.</b>\n",
        "\n",
        "You are told that during the time the data was being collected, devices 3 and 10 had malfunctioning sensors - their temperature3 readings are all 200+. <b>Verify this.</b> Since the engineers knew about the faulty sensors, no harm has been done, but seeing those false readings in the historical data makes you unhappy. You decide to go the extra mile and replace these readings with slightly more believable (but still false) data, to practise your new machine learning skills.\n",
        "\n",
        "<b>Using the other devices for training, build a model to predict temperature3 given readings from the other sensors. Use the model to replace the erroneous values with the predicted ones. \n",
        "    \n",
        "Do you think this is a reasonable step to take? Explain.</b> "
      ]
    },
    {
      "cell_type": "code",
      "metadata": {
        "id": "s31vKld7xXC9",
        "colab_type": "code",
        "colab": {}
      },
      "source": [
        ""
      ],
      "execution_count": null,
      "outputs": []
    },
    {
      "cell_type": "markdown",
      "metadata": {
        "colab_type": "text",
        "id": "9abaaVfyYpYs"
      },
      "source": [
        "## Step 4: Visualization\n",
        "\n",
        "Time to get creative. Your final task is to build up a set of visualizations that could let an engineer get a quick overview of the current status of the system. Include the current sensor readings for each device and any metrics you think would be important to display. Choose one device and show more detail - a downsampled graph showing the readings over time, perhaps.\n",
        "\n",
        "You don't need to have your visualizations update in real time - merely show them as they would be presented at a given instant (i.e. feel free to use all the data you stored in the first section)."
      ]
    },
    {
      "cell_type": "code",
      "metadata": {
        "colab_type": "code",
        "id": "1QDf5tuiYpYt",
        "colab": {}
      },
      "source": [
        "from matplotlib import pyplot\n",
        "from pandas.plotting import autocorrelation_plot\n",
        "from sklearn.metrics import mean_squared_error\n",
        "from statsmodels.tsa.arima_model import ARIMA\n",
        "from statsmodels.graphics.tsaplots import plot_acf"
      ],
      "execution_count": null,
      "outputs": []
    },
    {
      "cell_type": "code",
      "metadata": {
        "colab_type": "code",
        "id": "QzmQsLaHYpYx",
        "colab": {}
      },
      "source": [
        "Temp1 = db['Temp1']\n",
        "Temp1[1:100].plot()\n",
        "pyplot.show()\n",
        "\n",
        "autocorrelation_plot(Temp1[1:100])\n",
        "pyplot.show()\n",
        "\n",
        "plot_acf(Temp1[1:100], lags=60)\n",
        "pyplot.show()"
      ],
      "execution_count": null,
      "outputs": []
    },
    {
      "cell_type": "code",
      "metadata": {
        "colab_type": "code",
        "id": "-xNzexcVYpY1",
        "colab": {}
      },
      "source": [
        "Temp2 = db['Temp2']\n",
        "Temp2[1:100].plot()\n",
        "pyplot.show()\n",
        "\n",
        "autocorrelation_plot(Temp2[1:100])\n",
        "pyplot.show()\n",
        "\n",
        "plot_acf(Temp2[1:100], lags=60)\n",
        "pyplot.show()"
      ],
      "execution_count": null,
      "outputs": []
    },
    {
      "cell_type": "code",
      "metadata": {
        "colab_type": "code",
        "id": "c1UD2gUaYpY5",
        "colab": {}
      },
      "source": [
        "Temp3 = db['Temp3']\n",
        "Temp3[1:100].plot()\n",
        "pyplot.show()\n",
        "\n",
        "autocorrelation_plot(Temp3[1:100])\n",
        "pyplot.show()\n",
        "\n",
        "plot_acf(Temp3[1:100], lags=60)\n",
        "pyplot.show()"
      ],
      "execution_count": null,
      "outputs": []
    },
    {
      "cell_type": "code",
      "metadata": {
        "id": "75JowSz1xswm",
        "colab_type": "code",
        "colab": {}
      },
      "source": [
        "Temp_Ambient = db['Temp_Ambient']\n",
        "Temp_Ambient[1:10].plot()\n",
        "pyplot.show()\n",
        "\n",
        "autocorrelation_plot(Temp_Ambient[1:100])\n",
        "pyplot.show()\n",
        "\n",
        "plot_acf(Temp_Ambient[1:100], lags=60)\n",
        "pyplot.show()"
      ],
      "execution_count": null,
      "outputs": []
    }
  ]
}